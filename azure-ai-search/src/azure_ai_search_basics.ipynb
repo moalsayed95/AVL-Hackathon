{
 "cells": [
  {
   "cell_type": "markdown",
   "metadata": {},
   "source": [
    "# Azure AI Search: vector search, step by step"
   ]
  },
  {
   "cell_type": "markdown",
   "metadata": {},
   "source": [
    "## Setup API client\n"
   ]
  },
  {
   "cell_type": "code",
   "execution_count": 2,
   "metadata": {},
   "outputs": [],
   "source": [
    "import os\n",
    "import dotenv\n",
    "from azure.core.credentials import AzureKeyCredential\n",
    "from azure.search.documents.indexes import SearchIndexClient\n",
    "\n",
    "dotenv.load_dotenv()\n",
    "\n",
    "AZURE_SEARCH_SERVICE = os.getenv(\"AZURE_SEARCH_SERVICE\")\n",
    "AZURE_SEARCH_ENDPOINT = f\"https://{AZURE_SEARCH_SERVICE}.search.windows.net\"\n",
    "AZURE_SEARCH_API_KEY = os.getenv(\"AZURE_SEARCH_ADMIN_KEY\")  # Add this line\n",
    "\n",
    "# Replace the credential initialization with AzureKeyCredential\n",
    "credential_ai_search = AzureKeyCredential(AZURE_SEARCH_API_KEY)\n",
    "index_client = SearchIndexClient(endpoint=AZURE_SEARCH_ENDPOINT, credential=credential_ai_search)"
   ]
  },
  {
   "cell_type": "markdown",
   "metadata": {},
   "source": [
    "## Search a tiny index\n",
    "\n",
    "### Create index"
   ]
  },
  {
   "cell_type": "code",
   "execution_count": 3,
   "metadata": {},
   "outputs": [
    {
     "data": {
      "text/plain": [
       "<azure.search.documents.indexes.models._index.SearchIndex at 0x253aac010a0>"
      ]
     },
     "execution_count": 3,
     "metadata": {},
     "output_type": "execute_result"
    }
   ],
   "source": [
    "from azure.search.documents.indexes.models import (\n",
    "    HnswAlgorithmConfiguration,\n",
    "    HnswParameters,\n",
    "    SearchField,\n",
    "    SearchFieldDataType,\n",
    "    SearchIndex,\n",
    "    SimpleField,\n",
    "    VectorSearch,\n",
    "    VectorSearchAlgorithmKind,\n",
    "    VectorSearchProfile,\n",
    ")\n",
    "\n",
    "AZURE_SEARCH_TINY_INDEX = \"teeenytinyindex\"\n",
    "\n",
    "index = SearchIndex(\n",
    "    name=AZURE_SEARCH_TINY_INDEX, \n",
    "    fields=[\n",
    "        SimpleField(name=\"id\", type=SearchFieldDataType.String, key=True),\n",
    "        SearchField(name=\"embedding\", \n",
    "                    type=SearchFieldDataType.Collection(SearchFieldDataType.Single), \n",
    "                    searchable=True, \n",
    "                    vector_search_dimensions=3,\n",
    "                    vector_search_profile_name=\"embedding_profile\")\n",
    "    ],\n",
    "    vector_search=VectorSearch(\n",
    "        algorithms=[HnswAlgorithmConfiguration( # Hierachical Navigable Small World, IVF\n",
    "                            name=\"hnsw_config\",\n",
    "                            kind=VectorSearchAlgorithmKind.HNSW,\n",
    "                            parameters=HnswParameters(metric=\"cosine\"),\n",
    "                        )],\n",
    "        profiles=[VectorSearchProfile(name=\"embedding_profile\", algorithm_configuration_name=\"hnsw_config\")]\n",
    "    )\n",
    ")\n",
    "\n",
    "index_client.create_index(index)"
   ]
  },
  {
   "cell_type": "markdown",
   "metadata": {},
   "source": [
    "### Insert a few documents with tiny vectors"
   ]
  },
  {
   "cell_type": "code",
   "execution_count": 4,
   "metadata": {},
   "outputs": [
    {
     "data": {
      "text/plain": [
       "[<azure.search.documents._generated.models._models_py3.IndexingResult at 0x253aadceb10>,\n",
       " <azure.search.documents._generated.models._models_py3.IndexingResult at 0x253aadceae0>,\n",
       " <azure.search.documents._generated.models._models_py3.IndexingResult at 0x253aadceba0>]"
      ]
     },
     "execution_count": 4,
     "metadata": {},
     "output_type": "execute_result"
    }
   ],
   "source": [
    "from azure.search.documents import SearchClient\n",
    "\n",
    "search_client = SearchClient(AZURE_SEARCH_ENDPOINT, AZURE_SEARCH_TINY_INDEX, credential=credential_ai_search)\n",
    "search_client.upload_documents(documents=[\n",
    "    {\"id\": \"1\", \"embedding\": [1, 2, 3]},\n",
    "    {\"id\": \"2\", \"embedding\": [1, 1, 3]},\n",
    "    {\"id\": \"3\", \"embedding\": [4, 5, 6]}])"
   ]
  }
 ],
 "metadata": {
  "kernelspec": {
   "display_name": "venv",
   "language": "python",
   "name": "python3"
  },
  "language_info": {
   "codemirror_mode": {
    "name": "ipython",
    "version": 3
   },
   "file_extension": ".py",
   "mimetype": "text/x-python",
   "name": "python",
   "nbconvert_exporter": "python",
   "pygments_lexer": "ipython3",
   "version": "3.12.10"
  },
  "orig_nbformat": 4
 },
 "nbformat": 4,
 "nbformat_minor": 2
}
